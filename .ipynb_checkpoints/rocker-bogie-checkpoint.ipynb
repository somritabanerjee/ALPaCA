{
 "cells": [
  {
   "cell_type": "code",
   "execution_count": 1,
   "metadata": {},
   "outputs": [
    {
     "name": "stderr",
     "output_type": "stream",
     "text": [
      "WARN: Cannot define MaxPoolGrad, likely already defined for this version of tensorflow: \"Registering two gradient with name 'MaxPoolGrad'! (Previous registration was in register /home/somrita/anaconda3/lib/python3.7/site-packages/tensorflow_core/python/framework/registry.py:66)\"\n"
     ]
    }
   ],
   "source": [
    "%load_ext autoreload\n",
    "%autoreload 2\n",
    "import numpy as np\n",
    "import gym\n",
    "from main.maml_agent import MAMLAgent, register_flags\n",
    "register_flags()\n",
    "from main.alpaca import *\n",
    "from main.dataset import *\n",
    "from main.dataViz import *\n",
    "import yaml\n",
    "\n",
    "from main.rover import *\n",
    "from main.terrain import *"
   ]
  },
  {
   "cell_type": "code",
   "execution_count": 2,
   "metadata": {},
   "outputs": [
    {
     "name": "stderr",
     "output_type": "stream",
     "text": [
      "/home/somrita/anaconda3/lib/python3.7/site-packages/ipykernel_launcher.py:3: YAMLLoadWarning: calling yaml.load() without Loader=... is deprecated, as the default Loader is unsafe. Please read https://msg.pyyaml.org/load for full details.\n",
      "  This is separate from the ipykernel package so we can avoid doing imports until\n"
     ]
    }
   ],
   "source": [
    "cfg_filename = 'configs/rocker-bogie-config.yml'\n",
    "with open(cfg_filename,'r') as ymlfile:\n",
    "    config = yaml.load(ymlfile)"
   ]
  },
  {
   "cell_type": "markdown",
   "metadata": {},
   "source": [
    "### Set up rover geometry"
   ]
  },
  {
   "cell_type": "code",
   "execution_count": 3,
   "metadata": {},
   "outputs": [],
   "source": [
    "alpha = np.deg2rad(110)\n",
    "beta = np.deg2rad(90)\n",
    "\n",
    "# Pick the angles at horizontal level motion\n",
    "th1 = np.deg2rad(45)\n",
    "th2 = np.deg2rad(60)\n",
    "\n",
    "# Find all the arm lengths\n",
    "l1 = 2.0\n",
    "l2 = 1.0\n",
    "rem_ht = l1*np.sin(th1) - l2 * np.cos(alpha + th1 - np.pi/2)\n",
    "l3 = rem_ht/np.sin(th2)\n",
    "l4 = rem_ht/np.cos(beta + th2 - np.pi/2)\n",
    "\n",
    "wheel_rad_1 = 0.4\n",
    "wheel_rad_2 = 0.4\n",
    "wheel_rad_3 = 0.4\n",
    "\n",
    "body_len = 2.0\n",
    "body_wid = 0.2\n",
    "\n",
    "rover = Rover(l1, l2, l3, l4, alpha, beta, gamma = th1, wheel_rad = wheel_rad_1, body_len = body_len, body_wid = body_wid)"
   ]
  },
  {
   "cell_type": "markdown",
   "metadata": {},
   "source": [
    "### Set rover on flat terrain"
   ]
  },
  {
   "cell_type": "code",
   "execution_count": 4,
   "metadata": {},
   "outputs": [],
   "source": [
    "rover.set_terrain(FlatTerrain())"
   ]
  },
  {
   "cell_type": "code",
   "execution_count": 5,
   "metadata": {},
   "outputs": [
    {
     "data": {
      "image/png": "[encoded data removed]",
      "text/plain": [
       "<Figure size 432x288 with 1 Axes>"
      ]
     },
     "metadata": {
      "needs_background": "light"
     },
     "output_type": "display_data"
    }
   ],
   "source": [
    "x2 = 0.0\n",
    "r0, r1, rb, r2, r3 = rover.find_geom(x2)\n",
    "ax = rover.plot_rover(r0, r1, rb, r2, r3)\n",
    "plt.show()"
   ]
  },
  {
   "cell_type": "markdown",
   "metadata": {},
   "source": [
    "### Set inertias"
   ]
  },
  {
   "cell_type": "code",
   "execution_count": 6,
   "metadata": {},
   "outputs": [],
   "source": [
    "mass = 10.0 # kg\n",
    "g = 9.81 # m/s2\n",
    "rover.set_inertias(mass = mass, g = g)"
   ]
  },
  {
   "cell_type": "markdown",
   "metadata": {},
   "source": [
    "# Dataset"
   ]
  },
  {
   "cell_type": "code",
   "execution_count": 7,
   "metadata": {},
   "outputs": [],
   "source": [
    "dataset = RockerBogieDataset(config, rover)"
   ]
  },
  {
   "cell_type": "markdown",
   "metadata": {},
   "source": [
    "## Default agent"
   ]
  },
  {
   "cell_type": "code",
   "execution_count": 8,
   "metadata": {},
   "outputs": [
    {
     "name": "stdout",
     "output_type": "stream",
     "text": [
      "Device mapping:\n",
      "/job:localhost/replica:0/task:0/device:XLA_CPU:0 -> device: XLA_CPU device\n",
      "\n"
     ]
    }
   ],
   "source": [
    "g1 = tf.Graph()\n",
    "sess1 = tf.InteractiveSession(config=tf.ConfigProto(log_device_placement=True), graph=g1)\n",
    "agent = ALPaCA(config, sess1, g1)"
   ]
  },
  {
   "cell_type": "code",
   "execution_count": 9,
   "metadata": {
    "scrolled": false
   },
   "outputs": [
    {
     "name": "stdout",
     "output_type": "stream",
     "text": [
      "WARNING:tensorflow:From /home/somrita/Documents/ALPaCA/main/alpaca.py:39: The name tf.get_variable is deprecated. Please use tf.compat.v1.get_variable instead.\n",
      "\n",
      "WARNING:tensorflow:From /home/somrita/Documents/ALPaCA/main/alpaca.py:46: The name tf.placeholder is deprecated. Please use tf.compat.v1.placeholder instead.\n",
      "\n",
      "WARNING:tensorflow:From /home/somrita/Documents/ALPaCA/main/alpaca.py:58: The name tf.placeholder_with_default is deprecated. Please use tf.compat.v1.placeholder_with_default instead.\n",
      "\n",
      "WARNING:tensorflow:From /home/somrita/Documents/ALPaCA/main/alpaca.py:61: The name tf.variable_scope is deprecated. Please use tf.compat.v1.variable_scope instead.\n",
      "\n",
      "WARNING:tensorflow:From /home/somrita/Documents/ALPaCA/main/alpaca.py:151: The name tf.AUTO_REUSE is deprecated. Please use tf.compat.v1.AUTO_REUSE instead.\n",
      "\n",
      "WARNING:tensorflow:From /home/somrita/Documents/ALPaCA/main/alpaca.py:153: dense (from tensorflow.python.layers.core) is deprecated and will be removed in a future version.\n",
      "Instructions for updating:\n",
      "Use keras.layers.Dense instead.\n",
      "WARNING:tensorflow:From /home/somrita/anaconda3/lib/python3.7/site-packages/tensorflow_core/python/layers/core.py:187: Layer.apply (from tensorflow.python.keras.engine.base_layer) is deprecated and will be removed in a future version.\n",
      "Instructions for updating:\n",
      "Please use `layer.__call__` method instead.\n",
      "WARNING:tensorflow:From /home/somrita/Documents/ALPaCA/main/alpaca.py:160: The name tf.matrix_inverse is deprecated. Please use tf.linalg.inv instead.\n",
      "\n",
      "x_dim  5\n",
      "y_dim  2\n",
      "phi_dim  16\n",
      "phi shape  (?, ?, 16)\n",
      "context phi shape  (?, ?, 16)\n",
      "K shape  (?, 16, 2)\n",
      "WARNING:tensorflow:From /home/somrita/Documents/ALPaCA/main/alpaca.py:183: The name tf.matrix_transpose is deprecated. Please use tf.linalg.matrix_transpose instead.\n",
      "\n",
      "WARNING:tensorflow:From /home/somrita/Documents/ALPaCA/main/alpaca.py:189: The name tf.log is deprecated. Please use tf.math.log instead.\n",
      "\n",
      "WARNING:tensorflow:From /home/somrita/Documents/ALPaCA/main/alpaca.py:197: The name tf.matrix_determinant is deprecated. Please use tf.linalg.det instead.\n",
      "\n",
      "WARNING:tensorflow:From /home/somrita/Documents/ALPaCA/main/alpaca.py:198: The name tf.summary.scalar is deprecated. Please use tf.compat.v1.summary.scalar instead.\n",
      "\n",
      "WARNING:tensorflow:From /home/somrita/Documents/ALPaCA/main/alpaca.py:125: The name tf.train.AdamOptimizer is deprecated. Please use tf.compat.v1.train.AdamOptimizer instead.\n",
      "\n",
      "WARNING:tensorflow:From /home/somrita/Documents/ALPaCA/main/alpaca.py:130: The name tf.summary.FileWriter is deprecated. Please use tf.compat.v1.summary.FileWriter instead.\n",
      "\n",
      "WARNING:tensorflow:From /home/somrita/Documents/ALPaCA/main/alpaca.py:131: The name tf.summary.merge_all is deprecated. Please use tf.compat.v1.summary.merge_all instead.\n",
      "\n",
      "WARNING:tensorflow:From /home/somrita/Documents/ALPaCA/main/alpaca.py:133: The name tf.train.Saver is deprecated. Please use tf.compat.v1.train.Saver instead.\n",
      "\n",
      "WARNING:tensorflow:From /home/somrita/Documents/ALPaCA/main/alpaca.py:135: The name tf.global_variables_initializer is deprecated. Please use tf.compat.v1.global_variables_initializer instead.\n",
      "\n"
     ]
    }
   ],
   "source": [
    "agent.construct_model()"
   ]
  },
  {
   "cell_type": "code",
   "execution_count": 10,
   "metadata": {
    "scrolled": true
   },
   "outputs": [
    {
     "name": "stdout",
     "output_type": "stream",
     "text": [
      "loss: 640.3983\n",
      "K shape  (?, 16, 2)\n",
      "loss: -7.7762685\n",
      "K shape  (?, 16, 2)\n",
      "loss: -9.851316\n",
      "K shape  (?, 16, 2)\n",
      "loss: -8.298047\n",
      "K shape  (?, 16, 2)\n",
      "loss: -8.249302\n",
      "K shape  (?, 16, 2)\n",
      "loss: -10.147255\n",
      "K shape  (?, 16, 2)\n",
      "loss: -10.114071\n",
      "K shape  (?, 16, 2)\n",
      "loss: -8.5133505\n",
      "K shape  (?, 16, 2)\n",
      "loss: -10.653847\n",
      "K shape  (?, 16, 2)\n",
      "loss: -10.364488\n",
      "K shape  (?, 16, 2)\n"
     ]
    }
   ],
   "source": [
    "agent.train(dataset,500)"
   ]
  },
  {
   "cell_type": "code",
   "execution_count": 18,
   "metadata": {},
   "outputs": [
    {
     "name": "stdout",
     "output_type": "stream",
     "text": [
      "Saved to: rockerbogiemodel\n"
     ]
    }
   ],
   "source": [
    "# agent.save('rockerbogiemodel')"
   ]
  },
  {
   "cell_type": "code",
   "execution_count": 10,
   "metadata": {},
   "outputs": [
    {
     "name": "stdout",
     "output_type": "stream",
     "text": [
      "INFO:tensorflow:Restoring parameters from rockerbogiemodel\n",
      "Restored model from: rockerbogiemodel\n"
     ]
    }
   ],
   "source": [
    "# agent.restore('rockerbogiemodel')"
   ]
  },
  {
   "cell_type": "markdown",
   "metadata": {},
   "source": [
    "# Visualize all agents"
   ]
  },
  {
   "cell_type": "code",
   "execution_count": 11,
   "metadata": {},
   "outputs": [],
   "source": [
    "N_test = 50\n",
    "test_horz = 30\n",
    "X_test, Y_test = dataset.sample(N_test, test_horz)"
   ]
  },
  {
   "cell_type": "code",
   "execution_count": 12,
   "metadata": {},
   "outputs": [
    {
     "name": "stderr",
     "output_type": "stream",
     "text": [
      "100%|██████████| 30/30 [00:01<00:00, 23.73it/s]\n"
     ]
    }
   ],
   "source": [
    "#compute MSE and time\n",
    "import time\n",
    "import tqdm\n",
    "\n",
    "def gaussian_nll(y,mu,Sig):\n",
    "    n = 1\n",
    "    logdet = np.log(Sig) \n",
    "    nll = n*np.log(2*np.pi) + logdet + ((y-mu).T * (1/Sig) * (y-mu))\n",
    "    return 0.5*nll\n",
    "\n",
    "def MSE(y,mu):\n",
    "    return (y-mu)**2\n",
    "\n",
    "def get_stats(meas, N):\n",
    "    mean = sum(meas)/N\n",
    "    var = sum([(nl - mean)**2 for nl in meas])/(N-1)\n",
    "    return mean, var\n",
    "\n",
    "alpaca_nll_mean = []\n",
    "alpaca_nll_var = []\n",
    "alpaca_time_mean = []\n",
    "alpaca_time_var = []\n",
    "alpaca_mse_mean = []\n",
    "alpaca_mse_var = []\n",
    "\n",
    "lpaca_nll_mean = []\n",
    "lpaca_nll_var = []\n",
    "lpaca_time_mean = []\n",
    "lpaca_time_var = []\n",
    "\n",
    "\n",
    "for j in tqdm.tqdm(range(test_horz)):\n",
    "    nll_list_alpaca = []\n",
    "    nll_list_lpaca = []\n",
    "    \n",
    "    mse_list_alpaca = []\n",
    "\n",
    "    time_list_alpaca = []\n",
    "    time_list_lpaca = []\n",
    "    \n",
    "    for ind in range(N_test):\n",
    "        X_update = X_test[ind:(ind+1),:j,:]\n",
    "        Y_update = Y_test[ind:(ind+1),:j,:]\n",
    "        x_pt = X_test[ind:(ind+1),(j):(j+1),:]\n",
    "        y_pt = Y_test[ind:(ind+1),(j):(j+1),:]\n",
    "    \n",
    "        t1_alpaca = time.process_time()\n",
    "        y, s = agent.test(X_update, Y_update, x_pt)\n",
    "        t2_alpaca = time.process_time()\n",
    "        \n",
    "#         t1_lpaca = time.process_time()\n",
    "#         y_lpaca,s_lpaca = agent_nometa.test(X_update, Y_update, x_pt)\n",
    "#         t2_lpaca = time.process_time()  \n",
    "            \n",
    "        nll_list_alpaca.append(gaussian_nll(y_pt[0,0,0],y[0,0,0],s[0,0,0,0]))\n",
    "#         nll_list_lpaca.append(gaussian_nll(y_pt[0,0,0],y_lpaca[0,0,0],s_lpaca[0,0,0,0]))\n",
    "        \n",
    "        time_list_alpaca.append(t2_alpaca - t1_alpaca)\n",
    "#         time_list_lpaca.append(t2_lpaca - t1_lpaca)\n",
    "        \n",
    "        mse_list_alpaca.append(MSE(y_pt[0,0,0],y[0,0,0]))\n",
    "        \n",
    "    time_mean_alpaca, time_var_alpaca = get_stats(time_list_alpaca,N_test)\n",
    "#     time_mean_lpaca, time_var_lpaca = get_stats(time_list_lpaca,N_test)\n",
    "    \n",
    "    mse_mean_alpaca, mse_var_alpaca = get_stats(mse_list_alpaca,N_test)\n",
    "    \n",
    "    nll_mean_alpaca, nll_var_alpaca = get_stats(nll_list_alpaca,N_test)\n",
    "#     nll_mean_lpaca, nll_var_lpaca = get_stats(nll_list_lpaca,N_test)\n",
    "    \n",
    "    alpaca_time_mean.append(time_mean_alpaca)\n",
    "    alpaca_time_var.append(time_var_alpaca)\n",
    "    \n",
    "#     lpaca_time_mean.append(time_mean_lpaca)\n",
    "#     lpaca_time_var.append(time_var_lpaca)\n",
    "    \n",
    "    alpaca_mse_mean.append(mse_mean_alpaca)\n",
    "    alpaca_mse_var.append(mse_var_alpaca)\n",
    "    \n",
    "    alpaca_nll_mean.append(nll_mean_alpaca)\n",
    "    alpaca_nll_var.append(nll_var_alpaca)\n",
    "    \n",
    "#     lpaca_nll_mean.append(nll_mean_lpaca)\n",
    "#     lpaca_nll_var.append(nll_var_lpaca)"
   ]
  },
  {
   "cell_type": "code",
   "execution_count": 13,
   "metadata": {},
   "outputs": [
    {
     "name": "stderr",
     "output_type": "stream",
     "text": [
      "findfont: Font family ['serif'] not found. Falling back to DejaVu Sans.\n"
     ]
    },
    {
     "data": {
      "image/png": "[encoded data removed]",
      "text/plain": [
       "<Figure size 252x216 with 1 Axes>"
      ]
     },
     "metadata": {
      "needs_background": "light"
     },
     "output_type": "display_data"
    }
   ],
   "source": [
    "plt.figure(figsize=(3.5,3))\n",
    "nll_plot(alpaca_nll_mean,alpaca_nll_var, None, None, None, None,N_test,legend=True)\n",
    "# nll_plot(alpaca_nll_mean,alpaca_nll_var,lpaca_nll_mean,lpaca_nll_var,gp_nll_mean,gp_nll_var,N_test,legend=True)\n",
    "plt.savefig('figures/nll_rockerbogie.pdf')\n",
    "plt.show()"
   ]
  },
  {
   "cell_type": "code",
   "execution_count": 14,
   "metadata": {},
   "outputs": [
    {
     "data": {
      "image/png": "[encoded data removed]",
      "text/plain": [
       "<Figure size 252x216 with 1 Axes>"
      ]
     },
     "metadata": {
      "needs_background": "light"
     },
     "output_type": "display_data"
    }
   ],
   "source": [
    "plt.figure(figsize=(3.5,3))\n",
    "mse_plot(alpaca_mse_mean,alpaca_mse_var,None,None,None,None,N_test,legend=True)\n",
    "plt.tight_layout()\n",
    "plt.savefig('figures/mse_rockerbogie.pdf')\n",
    "plt.show()"
   ]
  },
  {
   "cell_type": "code",
   "execution_count": 15,
   "metadata": {},
   "outputs": [
    {
     "data": {
      "image/png": "[encoded data removed]",
      "text/plain": [
       "<Figure size 252x216 with 1 Axes>"
      ]
     },
     "metadata": {
      "needs_background": "light"
     },
     "output_type": "display_data"
    }
   ],
   "source": [
    "plt.figure(figsize=(3.5,3))\n",
    "time_plot(alpaca_time_mean,alpaca_time_var,None,None,None,None,N_test,legend=True)\n",
    "# time_plot(alpaca_time_mean,alpaca_time_var,lpaca_time_mean,lpaca_time_var,gp_time_mean,gp_time_var,N_test,legend=True)\n",
    "plt.savefig('figures/time_rockerbogie.pdf')\n",
    "plt.show()"
   ]
  },
  {
   "cell_type": "code",
   "execution_count": null,
   "metadata": {},
   "outputs": [],
   "source": []
  }
 ],
 "metadata": {
  "kernelspec": {
   "display_name": "Python 3",
   "language": "python",
   "name": "python3"
  },
  "language_info": {
   "codemirror_mode": {
    "name": "ipython",
    "version": 3
   },
   "file_extension": ".py",
   "mimetype": "text/x-python",
   "name": "python",
   "nbconvert_exporter": "python",
   "pygments_lexer": "ipython3",
   "version": "3.7.4"
  }
 },
 "nbformat": 4,
 "nbformat_minor": 2
}
